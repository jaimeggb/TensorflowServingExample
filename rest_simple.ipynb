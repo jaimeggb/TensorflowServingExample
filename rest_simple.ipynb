{
  "cells": [
    {
      "cell_type": "markdown",
      "metadata": {
        "id": "MhoQ0WE77laV"
      },
      "source": [
        "##### Copyright 2020 The TensorFlow Authors."
      ]
    },
    {
      "cell_type": "code",
      "execution_count": 1,
      "metadata": {
        "cellView": "form",
        "id": "_ckMIh7O7s6D"
      },
      "outputs": [],
      "source": [
        "#@title Licensed under the Apache License, Version 2.0 (the \"License\");\n",
        "# you may not use this file except in compliance with the License.\n",
        "# You may obtain a copy of the License at\n",
        "#\n",
        "# https://www.apache.org/licenses/LICENSE-2.0\n",
        "#\n",
        "# Unless required by applicable law or agreed to in writing, software\n",
        "# distributed under the License is distributed on an \"AS IS\" BASIS,\n",
        "# WITHOUT WARRANTIES OR CONDITIONS OF ANY KIND, either express or implied.\n",
        "# See the License for the specific language governing permissions and\n",
        "# limitations under the License."
      ]
    },
    {
      "cell_type": "markdown",
      "metadata": {
        "id": "jYysdyb-CaWM"
      },
      "source": [
        "# Train and serve a TensorFlow model with TensorFlow Serving"
      ]
    },
    {
      "cell_type": "markdown",
      "metadata": {
        "id": "E6FwTNtl3S4v"
      },
      "source": [
        "**Warning: This notebook is designed to be run in a Google Colab only**.  It installs packages on the system and requires root access.  If you want to run it in a local Jupyter notebook, please proceed with caution.\n",
        "\n",
        "Note: You can run this example right now in a Jupyter-style notebook, no setup required!  Just click \"Run in Google Colab\"\n",
        "\n",
        "<div class=\"devsite-table-wrapper\"><table class=\"tfo-notebook-buttons\" align=\"left\">\n",
        "<tr><td><a target=\"_blank\" href=\"https://www.tensorflow.org/tfx/tutorials/serving/rest_simple\">\n",
        "<img src=\"https://www.tensorflow.org/images/tf_logo_32px.png\" />View on TensorFlow.org</a></td>\n",
        "<td><a target=\"_blank\" href=\"https://colab.research.google.com/github/tensorflow/tfx/blob/master/docs/tutorials/serving/rest_simple.ipynb\">\n",
        "<img src=\"https://www.tensorflow.org/images/colab_logo_32px.png\">Run in Google Colab</a></td>\n",
        "<td><a target=\"_blank\" href=\"https://github.com/tensorflow/tfx/blob/master/docs/tutorials/serving/rest_simple.ipynb\">\n",
        "<img width=32px src=\"https://www.tensorflow.org/images/GitHub-Mark-32px.png\">View source on GitHub</a></td>\n",
        "<td><a href=\"https://storage.googleapis.com/tensorflow_docs/tfx/docs/tutorials/serving/rest_simple.ipynb\"><img src=\"https://www.tensorflow.org/images/download_logo_32px.png\" />Download notebook</a></td>\n",
        "</tr></table></div>"
      ]
    },
    {
      "cell_type": "markdown",
      "metadata": {
        "id": "FbVhjPpzn6BM"
      },
      "source": [
        "This guide trains a neural network model to classify [images of clothing, like sneakers and shirts](https://github.com/zalandoresearch/fashion-mnist), saves the trained model, and then serves it with [TensorFlow Serving](https://www.tensorflow.org/tfx/guide/serving).  The focus is on TensorFlow Serving, rather than the modeling and training in TensorFlow, so for a complete example which focuses on the modeling and training see the [Basic Classification example](https://github.com/tensorflow/docs/blob/master/site/en/r1/tutorials/keras/basic_classification.ipynb).\n",
        "\n",
        "This guide uses [tf.keras](https://github.com/tensorflow/docs/blob/master/site/en/r1/guide/keras.ipynb), a high-level API to build and train models in TensorFlow."
      ]
    },
    {
      "cell_type": "code",
      "execution_count": 2,
      "metadata": {
        "id": "FWkuJabJSKGB"
      },
      "outputs": [],
      "source": [
        "import sys\n",
        "\n",
        "# Confirm that we're using Python 3\n",
        "assert sys.version_info.major == 3, 'Oops, not running Python 3. Use Runtime > Change runtime type'"
      ]
    },
    {
      "cell_type": "code",
      "execution_count": 3,
      "metadata": {
        "id": "dzLKpmZICaWN"
      },
      "outputs": [
        {
          "name": "stdout",
          "output_type": "stream",
          "text": [
            "Installing dependencies for Colab environment\n"
          ]
        },
        {
          "name": "stderr",
          "output_type": "stream",
          "text": [
            "  ERROR: Command errored out with exit status 1:\n",
            "   command: 'C:\\Users\\Jaime GG-B\\AppData\\Local\\Programs\\Python\\Python39\\python.exe' -u -c 'import io, os, sys, setuptools, tokenize; sys.argv[0] = '\"'\"'C:\\\\Users\\\\Jaime GG-B\\\\AppData\\\\Local\\\\Temp\\\\pip-install-97r6szst\\\\grpcio_23598bb905dc4de1a7f3917139dad1c9\\\\setup.py'\"'\"'; __file__='\"'\"'C:\\\\Users\\\\Jaime GG-B\\\\AppData\\\\Local\\\\Temp\\\\pip-install-97r6szst\\\\grpcio_23598bb905dc4de1a7f3917139dad1c9\\\\setup.py'\"'\"';f = getattr(tokenize, '\"'\"'open'\"'\"', open)(__file__) if os.path.exists(__file__) else io.StringIO('\"'\"'from setuptools import setup; setup()'\"'\"');code = f.read().replace('\"'\"'\\r\\n'\"'\"', '\"'\"'\\n'\"'\"');f.close();exec(compile(code, __file__, '\"'\"'exec'\"'\"'))' bdist_wheel -d 'C:\\Users\\Jaime GG-B\\AppData\\Local\\Temp\\pip-wheel-flsdmbzw'\n",
            "       cwd: C:\\Users\\Jaime GG-B\\AppData\\Local\\Temp\\pip-install-97r6szst\\grpcio_23598bb905dc4de1a7f3917139dad1c9\\\n",
            "  Complete output (67 lines):\n",
            "  Found cython-generated files...\n",
            "  running bdist_wheel\n",
            "  running build\n",
            "  running build_py\n",
            "  running build_project_metadata\n",
            "  creating python_build\n",
            "  creating python_build\\lib.win-amd64-3.9\n",
            "  creating python_build\\lib.win-amd64-3.9\\grpc\n",
            "  copying src\\python\\grpcio\\grpc\\_auth.py -> python_build\\lib.win-amd64-3.9\\grpc\n",
            "  copying src\\python\\grpcio\\grpc\\_channel.py -> python_build\\lib.win-amd64-3.9\\grpc\n",
            "  copying src\\python\\grpcio\\grpc\\_common.py -> python_build\\lib.win-amd64-3.9\\grpc\n",
            "  copying src\\python\\grpcio\\grpc\\_compression.py -> python_build\\lib.win-amd64-3.9\\grpc\n",
            "  copying src\\python\\grpcio\\grpc\\_grpcio_metadata.py -> python_build\\lib.win-amd64-3.9\\grpc\n",
            "  copying src\\python\\grpcio\\grpc\\_interceptor.py -> python_build\\lib.win-amd64-3.9\\grpc\n",
            "  copying src\\python\\grpcio\\grpc\\_plugin_wrapping.py -> python_build\\lib.win-amd64-3.9\\grpc\n",
            "  copying src\\python\\grpcio\\grpc\\_server.py -> python_build\\lib.win-amd64-3.9\\grpc\n",
            "  copying src\\python\\grpcio\\grpc\\_utilities.py -> python_build\\lib.win-amd64-3.9\\grpc\n",
            "  copying src\\python\\grpcio\\grpc\\__init__.py -> python_build\\lib.win-amd64-3.9\\grpc\n",
            "  creating python_build\\lib.win-amd64-3.9\\grpc\\beta\n",
            "  copying src\\python\\grpcio\\grpc\\beta\\implementations.py -> python_build\\lib.win-amd64-3.9\\grpc\\beta\n",
            "  copying src\\python\\grpcio\\grpc\\beta\\interfaces.py -> python_build\\lib.win-amd64-3.9\\grpc\\beta\n",
            "  copying src\\python\\grpcio\\grpc\\beta\\utilities.py -> python_build\\lib.win-amd64-3.9\\grpc\\beta\n",
            "  copying src\\python\\grpcio\\grpc\\beta\\_client_adaptations.py -> python_build\\lib.win-amd64-3.9\\grpc\\beta\n",
            "  copying src\\python\\grpcio\\grpc\\beta\\_metadata.py -> python_build\\lib.win-amd64-3.9\\grpc\\beta\n",
            "  copying src\\python\\grpcio\\grpc\\beta\\_server_adaptations.py -> python_build\\lib.win-amd64-3.9\\grpc\\beta\n",
            "  copying src\\python\\grpcio\\grpc\\beta\\__init__.py -> python_build\\lib.win-amd64-3.9\\grpc\\beta\n",
            "  creating python_build\\lib.win-amd64-3.9\\grpc\\experimental\n",
            "  copying src\\python\\grpcio\\grpc\\experimental\\gevent.py -> python_build\\lib.win-amd64-3.9\\grpc\\experimental\n",
            "  copying src\\python\\grpcio\\grpc\\experimental\\session_cache.py -> python_build\\lib.win-amd64-3.9\\grpc\\experimental\n",
            "  copying src\\python\\grpcio\\grpc\\experimental\\__init__.py -> python_build\\lib.win-amd64-3.9\\grpc\\experimental\n",
            "  creating python_build\\lib.win-amd64-3.9\\grpc\\framework\n",
            "  copying src\\python\\grpcio\\grpc\\framework\\__init__.py -> python_build\\lib.win-amd64-3.9\\grpc\\framework\n",
            "  creating python_build\\lib.win-amd64-3.9\\grpc\\_cython\n",
            "  copying src\\python\\grpcio\\grpc\\_cython\\__init__.py -> python_build\\lib.win-amd64-3.9\\grpc\\_cython\n",
            "  creating python_build\\lib.win-amd64-3.9\\grpc\\experimental\\aio\n",
            "  copying src\\python\\grpcio\\grpc\\experimental\\aio\\_call.py -> python_build\\lib.win-amd64-3.9\\grpc\\experimental\\aio\n",
            "  copying src\\python\\grpcio\\grpc\\experimental\\aio\\_channel.py -> python_build\\lib.win-amd64-3.9\\grpc\\experimental\\aio\n",
            "  copying src\\python\\grpcio\\grpc\\experimental\\aio\\_server.py -> python_build\\lib.win-amd64-3.9\\grpc\\experimental\\aio\n",
            "  copying src\\python\\grpcio\\grpc\\experimental\\aio\\__init__.py -> python_build\\lib.win-amd64-3.9\\grpc\\experimental\\aio\n",
            "  creating python_build\\lib.win-amd64-3.9\\grpc\\framework\\common\n",
            "  copying src\\python\\grpcio\\grpc\\framework\\common\\cardinality.py -> python_build\\lib.win-amd64-3.9\\grpc\\framework\\common\n",
            "  copying src\\python\\grpcio\\grpc\\framework\\common\\style.py -> python_build\\lib.win-amd64-3.9\\grpc\\framework\\common\n",
            "  copying src\\python\\grpcio\\grpc\\framework\\common\\__init__.py -> python_build\\lib.win-amd64-3.9\\grpc\\framework\\common\n",
            "  creating python_build\\lib.win-amd64-3.9\\grpc\\framework\\foundation\n",
            "  copying src\\python\\grpcio\\grpc\\framework\\foundation\\abandonment.py -> python_build\\lib.win-amd64-3.9\\grpc\\framework\\foundation\n",
            "  copying src\\python\\grpcio\\grpc\\framework\\foundation\\callable_util.py -> python_build\\lib.win-amd64-3.9\\grpc\\framework\\foundation\n",
            "  copying src\\python\\grpcio\\grpc\\framework\\foundation\\future.py -> python_build\\lib.win-amd64-3.9\\grpc\\framework\\foundation\n",
            "  copying src\\python\\grpcio\\grpc\\framework\\foundation\\logging_pool.py -> python_build\\lib.win-amd64-3.9\\grpc\\framework\\foundation\n",
            "  copying src\\python\\grpcio\\grpc\\framework\\foundation\\stream.py -> python_build\\lib.win-amd64-3.9\\grpc\\framework\\foundation\n",
            "  copying src\\python\\grpcio\\grpc\\framework\\foundation\\stream_util.py -> python_build\\lib.win-amd64-3.9\\grpc\\framework\\foundation\n",
            "  copying src\\python\\grpcio\\grpc\\framework\\foundation\\__init__.py -> python_build\\lib.win-amd64-3.9\\grpc\\framework\\foundation\n",
            "  creating python_build\\lib.win-amd64-3.9\\grpc\\framework\\interfaces\n",
            "  copying src\\python\\grpcio\\grpc\\framework\\interfaces\\__init__.py -> python_build\\lib.win-amd64-3.9\\grpc\\framework\\interfaces\n",
            "  creating python_build\\lib.win-amd64-3.9\\grpc\\framework\\interfaces\\base\n",
            "  copying src\\python\\grpcio\\grpc\\framework\\interfaces\\base\\base.py -> python_build\\lib.win-amd64-3.9\\grpc\\framework\\interfaces\\base\n",
            "  copying src\\python\\grpcio\\grpc\\framework\\interfaces\\base\\utilities.py -> python_build\\lib.win-amd64-3.9\\grpc\\framework\\interfaces\\base\n",
            "  copying src\\python\\grpcio\\grpc\\framework\\interfaces\\base\\__init__.py -> python_build\\lib.win-amd64-3.9\\grpc\\framework\\interfaces\\base\n",
            "  creating python_build\\lib.win-amd64-3.9\\grpc\\framework\\interfaces\\face\n",
            "  copying src\\python\\grpcio\\grpc\\framework\\interfaces\\face\\face.py -> python_build\\lib.win-amd64-3.9\\grpc\\framework\\interfaces\\face\n",
            "  copying src\\python\\grpcio\\grpc\\framework\\interfaces\\face\\utilities.py -> python_build\\lib.win-amd64-3.9\\grpc\\framework\\interfaces\\face\n",
            "  copying src\\python\\grpcio\\grpc\\framework\\interfaces\\face\\__init__.py -> python_build\\lib.win-amd64-3.9\\grpc\\framework\\interfaces\\face\n",
            "  creating python_build\\lib.win-amd64-3.9\\grpc\\_cython\\_cygrpc\n",
            "  copying src\\python\\grpcio\\grpc\\_cython\\_cygrpc\\__init__.py -> python_build\\lib.win-amd64-3.9\\grpc\\_cython\\_cygrpc\n",
            "  creating python_build\\lib.win-amd64-3.9\\grpc\\_cython\\_credentials\n",
            "  copying src\\python\\grpcio\\grpc\\_cython\\_credentials\\roots.pem -> python_build\\lib.win-amd64-3.9\\grpc\\_cython\\_credentials\n",
            "  running build_ext\n",
            "  error: [WinError 2] The system cannot find the file specified\n",
            "  ----------------------------------------\n",
            "  ERROR: Failed building wheel for grpcio\n",
            "    ERROR: Command errored out with exit status 1:\n",
            "     command: 'C:\\Users\\Jaime GG-B\\AppData\\Local\\Programs\\Python\\Python39\\python.exe' -u -c 'import io, os, sys, setuptools, tokenize; sys.argv[0] = '\"'\"'C:\\\\Users\\\\Jaime GG-B\\\\AppData\\\\Local\\\\Temp\\\\pip-install-97r6szst\\\\grpcio_23598bb905dc4de1a7f3917139dad1c9\\\\setup.py'\"'\"'; __file__='\"'\"'C:\\\\Users\\\\Jaime GG-B\\\\AppData\\\\Local\\\\Temp\\\\pip-install-97r6szst\\\\grpcio_23598bb905dc4de1a7f3917139dad1c9\\\\setup.py'\"'\"';f = getattr(tokenize, '\"'\"'open'\"'\"', open)(__file__) if os.path.exists(__file__) else io.StringIO('\"'\"'from setuptools import setup; setup()'\"'\"');code = f.read().replace('\"'\"'\\r\\n'\"'\"', '\"'\"'\\n'\"'\"');f.close();exec(compile(code, __file__, '\"'\"'exec'\"'\"'))' install --record 'C:\\Users\\Jaime GG-B\\AppData\\Local\\Temp\\pip-record-tylzjdi2\\install-record.txt' --single-version-externally-managed --compile --install-headers 'C:\\Users\\Jaime GG-B\\AppData\\Local\\Programs\\Python\\Python39\\Include\\grpcio'\n",
            "         cwd: C:\\Users\\Jaime GG-B\\AppData\\Local\\Temp\\pip-install-97r6szst\\grpcio_23598bb905dc4de1a7f3917139dad1c9\\\n",
            "    Complete output (67 lines):\n",
            "    Found cython-generated files...\n",
            "    running install\n",
            "    running build\n",
            "    running build_py\n",
            "    running build_project_metadata\n",
            "    creating python_build\n",
            "    creating python_build\\lib.win-amd64-3.9\n",
            "    creating python_build\\lib.win-amd64-3.9\\grpc\n",
            "    copying src\\python\\grpcio\\grpc\\_auth.py -> python_build\\lib.win-amd64-3.9\\grpc\n",
            "    copying src\\python\\grpcio\\grpc\\_channel.py -> python_build\\lib.win-amd64-3.9\\grpc\n",
            "    copying src\\python\\grpcio\\grpc\\_common.py -> python_build\\lib.win-amd64-3.9\\grpc\n",
            "    copying src\\python\\grpcio\\grpc\\_compression.py -> python_build\\lib.win-amd64-3.9\\grpc\n",
            "    copying src\\python\\grpcio\\grpc\\_grpcio_metadata.py -> python_build\\lib.win-amd64-3.9\\grpc\n",
            "    copying src\\python\\grpcio\\grpc\\_interceptor.py -> python_build\\lib.win-amd64-3.9\\grpc\n",
            "    copying src\\python\\grpcio\\grpc\\_plugin_wrapping.py -> python_build\\lib.win-amd64-3.9\\grpc\n",
            "    copying src\\python\\grpcio\\grpc\\_server.py -> python_build\\lib.win-amd64-3.9\\grpc\n",
            "    copying src\\python\\grpcio\\grpc\\_utilities.py -> python_build\\lib.win-amd64-3.9\\grpc\n",
            "    copying src\\python\\grpcio\\grpc\\__init__.py -> python_build\\lib.win-amd64-3.9\\grpc\n",
            "    creating python_build\\lib.win-amd64-3.9\\grpc\\beta\n",
            "    copying src\\python\\grpcio\\grpc\\beta\\implementations.py -> python_build\\lib.win-amd64-3.9\\grpc\\beta\n",
            "    copying src\\python\\grpcio\\grpc\\beta\\interfaces.py -> python_build\\lib.win-amd64-3.9\\grpc\\beta\n",
            "    copying src\\python\\grpcio\\grpc\\beta\\utilities.py -> python_build\\lib.win-amd64-3.9\\grpc\\beta\n",
            "    copying src\\python\\grpcio\\grpc\\beta\\_client_adaptations.py -> python_build\\lib.win-amd64-3.9\\grpc\\beta\n",
            "    copying src\\python\\grpcio\\grpc\\beta\\_metadata.py -> python_build\\lib.win-amd64-3.9\\grpc\\beta\n",
            "    copying src\\python\\grpcio\\grpc\\beta\\_server_adaptations.py -> python_build\\lib.win-amd64-3.9\\grpc\\beta\n",
            "    copying src\\python\\grpcio\\grpc\\beta\\__init__.py -> python_build\\lib.win-amd64-3.9\\grpc\\beta\n",
            "    creating python_build\\lib.win-amd64-3.9\\grpc\\experimental\n",
            "    copying src\\python\\grpcio\\grpc\\experimental\\gevent.py -> python_build\\lib.win-amd64-3.9\\grpc\\experimental\n",
            "    copying src\\python\\grpcio\\grpc\\experimental\\session_cache.py -> python_build\\lib.win-amd64-3.9\\grpc\\experimental\n",
            "    copying src\\python\\grpcio\\grpc\\experimental\\__init__.py -> python_build\\lib.win-amd64-3.9\\grpc\\experimental\n",
            "    creating python_build\\lib.win-amd64-3.9\\grpc\\framework\n",
            "    copying src\\python\\grpcio\\grpc\\framework\\__init__.py -> python_build\\lib.win-amd64-3.9\\grpc\\framework\n",
            "    creating python_build\\lib.win-amd64-3.9\\grpc\\_cython\n",
            "    copying src\\python\\grpcio\\grpc\\_cython\\__init__.py -> python_build\\lib.win-amd64-3.9\\grpc\\_cython\n",
            "    creating python_build\\lib.win-amd64-3.9\\grpc\\experimental\\aio\n",
            "    copying src\\python\\grpcio\\grpc\\experimental\\aio\\_call.py -> python_build\\lib.win-amd64-3.9\\grpc\\experimental\\aio\n",
            "    copying src\\python\\grpcio\\grpc\\experimental\\aio\\_channel.py -> python_build\\lib.win-amd64-3.9\\grpc\\experimental\\aio\n",
            "    copying src\\python\\grpcio\\grpc\\experimental\\aio\\_server.py -> python_build\\lib.win-amd64-3.9\\grpc\\experimental\\aio\n",
            "    copying src\\python\\grpcio\\grpc\\experimental\\aio\\__init__.py -> python_build\\lib.win-amd64-3.9\\grpc\\experimental\\aio\n",
            "    creating python_build\\lib.win-amd64-3.9\\grpc\\framework\\common\n",
            "    copying src\\python\\grpcio\\grpc\\framework\\common\\cardinality.py -> python_build\\lib.win-amd64-3.9\\grpc\\framework\\common\n",
            "    copying src\\python\\grpcio\\grpc\\framework\\common\\style.py -> python_build\\lib.win-amd64-3.9\\grpc\\framework\\common\n",
            "    copying src\\python\\grpcio\\grpc\\framework\\common\\__init__.py -> python_build\\lib.win-amd64-3.9\\grpc\\framework\\common\n",
            "    creating python_build\\lib.win-amd64-3.9\\grpc\\framework\\foundation\n",
            "    copying src\\python\\grpcio\\grpc\\framework\\foundation\\abandonment.py -> python_build\\lib.win-amd64-3.9\\grpc\\framework\\foundation\n",
            "    copying src\\python\\grpcio\\grpc\\framework\\foundation\\callable_util.py -> python_build\\lib.win-amd64-3.9\\grpc\\framework\\foundation\n",
            "    copying src\\python\\grpcio\\grpc\\framework\\foundation\\future.py -> python_build\\lib.win-amd64-3.9\\grpc\\framework\\foundation\n",
            "    copying src\\python\\grpcio\\grpc\\framework\\foundation\\logging_pool.py -> python_build\\lib.win-amd64-3.9\\grpc\\framework\\foundation\n",
            "    copying src\\python\\grpcio\\grpc\\framework\\foundation\\stream.py -> python_build\\lib.win-amd64-3.9\\grpc\\framework\\foundation\n",
            "    copying src\\python\\grpcio\\grpc\\framework\\foundation\\stream_util.py -> python_build\\lib.win-amd64-3.9\\grpc\\framework\\foundation\n",
            "    copying src\\python\\grpcio\\grpc\\framework\\foundation\\__init__.py -> python_build\\lib.win-amd64-3.9\\grpc\\framework\\foundation\n",
            "    creating python_build\\lib.win-amd64-3.9\\grpc\\framework\\interfaces\n",
            "    copying src\\python\\grpcio\\grpc\\framework\\interfaces\\__init__.py -> python_build\\lib.win-amd64-3.9\\grpc\\framework\\interfaces\n",
            "    creating python_build\\lib.win-amd64-3.9\\grpc\\framework\\interfaces\\base\n",
            "    copying src\\python\\grpcio\\grpc\\framework\\interfaces\\base\\base.py -> python_build\\lib.win-amd64-3.9\\grpc\\framework\\interfaces\\base\n",
            "    copying src\\python\\grpcio\\grpc\\framework\\interfaces\\base\\utilities.py -> python_build\\lib.win-amd64-3.9\\grpc\\framework\\interfaces\\base\n",
            "    copying src\\python\\grpcio\\grpc\\framework\\interfaces\\base\\__init__.py -> python_build\\lib.win-amd64-3.9\\grpc\\framework\\interfaces\\base\n",
            "    creating python_build\\lib.win-amd64-3.9\\grpc\\framework\\interfaces\\face\n",
            "    copying src\\python\\grpcio\\grpc\\framework\\interfaces\\face\\face.py -> python_build\\lib.win-amd64-3.9\\grpc\\framework\\interfaces\\face\n",
            "    copying src\\python\\grpcio\\grpc\\framework\\interfaces\\face\\utilities.py -> python_build\\lib.win-amd64-3.9\\grpc\\framework\\interfaces\\face\n",
            "    copying src\\python\\grpcio\\grpc\\framework\\interfaces\\face\\__init__.py -> python_build\\lib.win-amd64-3.9\\grpc\\framework\\interfaces\\face\n",
            "    creating python_build\\lib.win-amd64-3.9\\grpc\\_cython\\_cygrpc\n",
            "    copying src\\python\\grpcio\\grpc\\_cython\\_cygrpc\\__init__.py -> python_build\\lib.win-amd64-3.9\\grpc\\_cython\\_cygrpc\n",
            "    creating python_build\\lib.win-amd64-3.9\\grpc\\_cython\\_credentials\n",
            "    copying src\\python\\grpcio\\grpc\\_cython\\_credentials\\roots.pem -> python_build\\lib.win-amd64-3.9\\grpc\\_cython\\_credentials\n",
            "    running build_ext\n",
            "    error: [WinError 2] The system cannot find the file specified\n",
            "    ----------------------------------------\n",
            "ERROR: Command errored out with exit status 1: 'C:\\Users\\Jaime GG-B\\AppData\\Local\\Programs\\Python\\Python39\\python.exe' -u -c 'import io, os, sys, setuptools, tokenize; sys.argv[0] = '\"'\"'C:\\\\Users\\\\Jaime GG-B\\\\AppData\\\\Local\\\\Temp\\\\pip-install-97r6szst\\\\grpcio_23598bb905dc4de1a7f3917139dad1c9\\\\setup.py'\"'\"'; __file__='\"'\"'C:\\\\Users\\\\Jaime GG-B\\\\AppData\\\\Local\\\\Temp\\\\pip-install-97r6szst\\\\grpcio_23598bb905dc4de1a7f3917139dad1c9\\\\setup.py'\"'\"';f = getattr(tokenize, '\"'\"'open'\"'\"', open)(__file__) if os.path.exists(__file__) else io.StringIO('\"'\"'from setuptools import setup; setup()'\"'\"');code = f.read().replace('\"'\"'\\r\\n'\"'\"', '\"'\"'\\n'\"'\"');f.close();exec(compile(code, __file__, '\"'\"'exec'\"'\"'))' install --record 'C:\\Users\\Jaime GG-B\\AppData\\Local\\Temp\\pip-record-tylzjdi2\\install-record.txt' --single-version-externally-managed --compile --install-headers 'C:\\Users\\Jaime GG-B\\AppData\\Local\\Programs\\Python\\Python39\\Include\\grpcio' Check the logs for full command output.\n",
            "WARNING: You are using pip version 21.3; however, version 22.2.2 is available.\n",
            "You should consider upgrading via the 'C:\\Users\\Jaime GG-B\\AppData\\Local\\Programs\\Python\\Python39\\python.exe -m pip install --upgrade pip' command.\n"
          ]
        },
        {
          "name": "stdout",
          "output_type": "stream",
          "text": [
            "TensorFlow version: 2.8.0\n"
          ]
        }
      ],
      "source": [
        "# TensorFlow and tf.keras\n",
        "print(\"Installing dependencies for Colab environment\")\n",
        "!pip install -Uq grpcio==1.26.0\n",
        "\n",
        "import tensorflow as tf\n",
        "from tensorflow import keras\n",
        "\n",
        "# Helper libraries\n",
        "import numpy as np\n",
        "import matplotlib.pyplot as plt\n",
        "import os\n",
        "import subprocess\n",
        "\n",
        "print('TensorFlow version: {}'.format(tf.__version__))"
      ]
    },
    {
      "cell_type": "markdown",
      "metadata": {
        "id": "5jAk1ZXqTJqN"
      },
      "source": [
        "## Create your model"
      ]
    },
    {
      "cell_type": "markdown",
      "metadata": {
        "id": "yR0EdgrLCaWR"
      },
      "source": [
        "### Import the Fashion MNIST dataset\n",
        "\n",
        "This guide uses the [Fashion MNIST](https://github.com/zalandoresearch/fashion-mnist) dataset which contains 70,000 grayscale images in 10 categories. The images show individual articles of clothing at low resolution (28 by 28 pixels), as seen here:\n",
        "\n",
        "<table>\n",
        "  <tr><td>\n",
        "    <img src=\"https://tensorflow.org/images/fashion-mnist-sprite.png\"\n",
        "         alt=\"Fashion MNIST sprite\"  width=\"600\">\n",
        "  </td></tr>\n",
        "  <tr><td align=\"center\">\n",
        "    <b>Figure 1.</b> <a href=\"https://github.com/zalandoresearch/fashion-mnist\">Fashion-MNIST samples</a> (by Zalando, MIT License).<br/>&nbsp;\n",
        "  </td></tr>\n",
        "</table>\n",
        "\n",
        "Fashion MNIST is intended as a drop-in replacement for the classic [MNIST](http://yann.lecun.com/exdb/mnist/) dataset—often used as the \"Hello, World\" of machine learning programs for computer vision. You can access the Fashion MNIST directly from TensorFlow, just import and load the data.\n",
        "\n",
        "Note: Although these are really images, they are loaded as NumPy arrays and not binary image objects."
      ]
    },
    {
      "cell_type": "code",
      "execution_count": 4,
      "metadata": {
        "id": "7MqDQO0KCaWS"
      },
      "outputs": [
        {
          "name": "stdout",
          "output_type": "stream",
          "text": [
            "\n",
            "train_images.shape: (60000, 28, 28, 1), of float64\n",
            "test_images.shape: (10000, 28, 28, 1), of float64\n"
          ]
        }
      ],
      "source": [
        "fashion_mnist = keras.datasets.fashion_mnist\n",
        "(train_images, train_labels), (test_images, test_labels) = fashion_mnist.load_data()\n",
        "\n",
        "# scale the values to 0.0 to 1.0\n",
        "train_images = train_images / 255.0\n",
        "test_images = test_images / 255.0\n",
        "\n",
        "# reshape for feeding into the model\n",
        "train_images = train_images.reshape(train_images.shape[0], 28, 28, 1)\n",
        "test_images = test_images.reshape(test_images.shape[0], 28, 28, 1)\n",
        "\n",
        "class_names = ['T-shirt/top', 'Trouser', 'Pullover', 'Dress', 'Coat',\n",
        "               'Sandal', 'Shirt', 'Sneaker', 'Bag', 'Ankle boot']\n",
        "\n",
        "print('\\ntrain_images.shape: {}, of {}'.format(train_images.shape, train_images.dtype))\n",
        "print('test_images.shape: {}, of {}'.format(test_images.shape, test_images.dtype))"
      ]
    },
    {
      "cell_type": "markdown",
      "metadata": {
        "id": "PDu7OX8Nf5PY"
      },
      "source": [
        "### Train and evaluate your model\n",
        "\n",
        "Let's use the simplest possible CNN, since we're not focused on the modeling part."
      ]
    },
    {
      "cell_type": "code",
      "execution_count": 5,
      "metadata": {
        "id": "LTNN0ANGgA36"
      },
      "outputs": [
        {
          "name": "stdout",
          "output_type": "stream",
          "text": [
            "Model: \"sequential\"\n",
            "_________________________________________________________________\n",
            " Layer (type)                Output Shape              Param #   \n",
            "=================================================================\n",
            " Conv1 (Conv2D)              (None, 13, 13, 8)         80        \n",
            "                                                                 \n",
            " flatten (Flatten)           (None, 1352)              0         \n",
            "                                                                 \n",
            " Dense (Dense)               (None, 10)                13530     \n",
            "                                                                 \n",
            "=================================================================\n",
            "Total params: 13,610\n",
            "Trainable params: 13,610\n",
            "Non-trainable params: 0\n",
            "_________________________________________________________________\n",
            "Epoch 1/5\n",
            "1875/1875 [==============================] - 6s 3ms/step - loss: 0.5384 - sparse_categorical_accuracy: 0.8112\n",
            "Epoch 2/5\n",
            "1875/1875 [==============================] - 5s 3ms/step - loss: 0.3866 - sparse_categorical_accuracy: 0.8645\n",
            "Epoch 3/5\n",
            "1875/1875 [==============================] - 5s 3ms/step - loss: 0.3471 - sparse_categorical_accuracy: 0.8770\n",
            "Epoch 4/5\n",
            "1875/1875 [==============================] - 5s 3ms/step - loss: 0.3253 - sparse_categorical_accuracy: 0.8839\n",
            "Epoch 5/5\n",
            "1875/1875 [==============================] - 5s 3ms/step - loss: 0.3112 - sparse_categorical_accuracy: 0.8892\n",
            "313/313 [==============================] - 1s 2ms/step - loss: 0.3448 - sparse_categorical_accuracy: 0.8787\n",
            "\n",
            "Test accuracy: 0.8787000179290771\n"
          ]
        }
      ],
      "source": [
        "model = keras.Sequential([\n",
        "  keras.layers.Conv2D(input_shape=(28,28,1), filters=8, kernel_size=3, \n",
        "                      strides=2, activation='relu', name='Conv1'),\n",
        "  keras.layers.Flatten(),\n",
        "  keras.layers.Dense(10, name='Dense')\n",
        "])\n",
        "model.summary()\n",
        "\n",
        "testing = False\n",
        "epochs = 5\n",
        "\n",
        "model.compile(optimizer='adam', \n",
        "              loss=tf.keras.losses.SparseCategoricalCrossentropy(from_logits=True),\n",
        "              metrics=[keras.metrics.SparseCategoricalAccuracy()])\n",
        "model.fit(train_images, train_labels, epochs=epochs)\n",
        "\n",
        "test_loss, test_acc = model.evaluate(test_images, test_labels)\n",
        "print('\\nTest accuracy: {}'.format(test_acc))"
      ]
    },
    {
      "cell_type": "markdown",
      "metadata": {
        "id": "AwGPItyphqXT"
      },
      "source": [
        "## Save your model\n",
        "\n",
        "To load our trained model into TensorFlow Serving we first need to save it in [SavedModel](https://www.tensorflow.org/versions/r1.15/api_docs/python/tf/saved_model) format.  This will create a protobuf file in a well-defined directory hierarchy, and will include a version number.  [TensorFlow Serving](https://www.tensorflow.org/tfx/guide/serving) allows us to select which version of a model, or \"servable\" we want to use when we make inference requests.  Each version will be exported to a different sub-directory under the given path."
      ]
    },
    {
      "cell_type": "code",
      "execution_count": 6,
      "metadata": {
        "id": "0w5Rq8SsgWE6"
      },
      "outputs": [
        {
          "name": "stdout",
          "output_type": "stream",
          "text": [
            "export_path = c:\\Users\\Jaime GG-B\\TensorflowServingExample\\1\n",
            "\n"
          ]
        },
        {
          "name": "stderr",
          "output_type": "stream",
          "text": [
            "WARNING:absl:Function `_wrapped_model` contains input name(s) Conv1_input with unsupported characters which will be renamed to conv1_input in the SavedModel.\n"
          ]
        },
        {
          "name": "stdout",
          "output_type": "stream",
          "text": [
            "INFO:tensorflow:Assets written to: c:\\Users\\Jaime GG-B\\TensorflowServingExample\\1\\assets\n"
          ]
        },
        {
          "name": "stderr",
          "output_type": "stream",
          "text": [
            "INFO:tensorflow:Assets written to: c:\\Users\\Jaime GG-B\\TensorflowServingExample\\1\\assets\n"
          ]
        },
        {
          "name": "stdout",
          "output_type": "stream",
          "text": [
            "\n",
            "Saved model:\n"
          ]
        },
        {
          "name": "stderr",
          "output_type": "stream",
          "text": [
            "'ls' is not recognized as an internal or external command,\n",
            "operable program or batch file.\n"
          ]
        }
      ],
      "source": [
        "# Fetch the Keras session and save the model\n",
        "# The signature definition is defined by the input and output tensors,\n",
        "# and stored with the default serving key\n",
        "import tempfile\n",
        "import os\n",
        "\n",
        "# MODEL_DIR = tempfile.gettempdir()\n",
        "MODEL_DIR = os.getcwd()\n",
        "\n",
        "version = 1\n",
        "export_path = os.path.join(MODEL_DIR, str(version))\n",
        "print('export_path = {}\\n'.format(export_path))\n",
        "\n",
        "tf.keras.models.save_model(\n",
        "    model,\n",
        "    export_path,\n",
        "    overwrite=True,\n",
        "    include_optimizer=True,\n",
        "    save_format=None,\n",
        "    signatures=None,\n",
        "    options=None\n",
        ")\n",
        "\n",
        "print('\\nSaved model:')\n",
        "!ls -l {export_path}"
      ]
    },
    {
      "cell_type": "markdown",
      "metadata": {
        "id": "FM7B_RuDYoIj"
      },
      "source": [
        "## Examine your saved model\n",
        "\n",
        "We'll use the command line utility `saved_model_cli` to look at the [MetaGraphDefs](https://www.tensorflow.org/versions/r1.15/api_docs/python/tf/MetaGraphDef) (the models) and [SignatureDefs](https://www.tensorflow.org/tfx/serving/signature_defs) (the methods you can call) in our SavedModel.  See [this discussion of the SavedModel CLI](https://github.com/tensorflow/docs/blob/master/site/en/r1/guide/saved_model.md#cli-to-inspect-and-execute-savedmodel) in the TensorFlow Guide."
      ]
    },
    {
      "cell_type": "code",
      "execution_count": 7,
      "metadata": {
        "id": "LU4GDF_aYtfQ"
      },
      "outputs": [
        {
          "name": "stdout",
          "output_type": "stream",
          "text": [
            "\n",
            "MetaGraphDef with tag-set: 'serve' contains the following SignatureDefs:\n",
            "\n",
            "signature_def['__saved_model_init_op']:\n",
            "  The given SavedModel SignatureDef contains the following input(s):\n",
            "  The given SavedModel SignatureDef contains the following output(s):\n",
            "    outputs['__saved_model_init_op'] tensor_info:\n",
            "        dtype: DT_INVALID\n",
            "        shape: unknown_rank\n",
            "        name: NoOp\n",
            "  Method name is: \n",
            "\n",
            "signature_def['serving_default']:\n",
            "  The given SavedModel SignatureDef contains the following input(s):\n",
            "    inputs['Conv1_input'] tensor_info:\n",
            "        dtype: DT_FLOAT\n",
            "        shape: (-1, 28, 28, 1)\n",
            "        name: serving_default_Conv1_input:0\n",
            "  The given SavedModel SignatureDef contains the following output(s):\n",
            "    outputs['Dense'] tensor_info:\n",
            "        dtype: DT_FLOAT"
          ]
        },
        {
          "name": "stderr",
          "output_type": "stream",
          "text": [
            "2022-09-30 17:44:46.417416: W tensorflow/stream_executor/platform/default/dso_loader.cc:64] Could not load dynamic library 'cudart64_110.dll'; dlerror: cudart64_110.dll not found\n",
            "2022-09-30 17:44:46.417997: I tensorflow/stream_executor/cuda/cudart_stub.cc:29] Ignore above cudart dlerror if you do not have a GPU set up on your machine.\n"
          ]
        },
        {
          "name": "stdout",
          "output_type": "stream",
          "text": [
            "\n",
            "        shape: (-1, 10)\n",
            "        name: StatefulPartitionedCall:0\n",
            "  Method name is: tensorflow/serving/predict\n",
            "\n",
            "Concrete Functions:\n",
            "  Function Name: '__call__'\n",
            "    Option #1\n",
            "      Callable with:\n",
            "        Argument #1\n",
            "          Conv1_input: TensorSpec(shape=(None, 28, 28, 1), dtype=tf.float32, name='Conv1_input')\n",
            "        Argument #2\n",
            "          DType: bool\n",
            "          Value: False\n",
            "        Argument #3\n",
            "          DType: NoneType\n",
            "          Value: None\n",
            "    Option #2\n",
            "      Callable with:\n",
            "        Argument #1\n",
            "          inputs: TensorSpec(shape=(None, 28, 28, 1), dtype=tf.float32, name='inputs')\n",
            "        Argument #2\n",
            "          DType: bool\n",
            "          Value: False\n",
            "        Argument #3\n",
            "          DType: NoneType\n",
            "          Value: None\n",
            "    Option #3\n",
            "      Callable with:\n",
            "        Argument #1\n",
            "          Conv1_input: TensorSpec(shape=(None, 28, 28, 1), dtype=tf.float32, name='Conv1_input')\n",
            "        Argument #2\n",
            "          DType: bool\n",
            "          Value: True\n",
            "        Argument #3\n",
            "          DType: NoneType\n",
            "          Value: None\n",
            "    Option #4\n",
            "      Callable with:\n",
            "        Argument #1\n",
            "          inputs: TensorSpec(shape=(None, 28, 28, 1), dtype=tf.float32, name='inputs')\n",
            "        Argument #2\n",
            "          DType: bool\n",
            "          Value: True\n",
            "        Argument #3\n",
            "          DType: NoneType\n",
            "          Value: None\n",
            "\n",
            "  Function Name: '_default_save_signature'\n",
            "    Option #1\n",
            "      Callable with:\n",
            "        Argument #1\n",
            "          Conv1_input: TensorSpec(shape=(None, 28, 28, 1), dtype=tf.float32, name='Conv1_input')\n",
            "\n",
            "  Function Name: 'call_and_return_all_conditional_losses'\n",
            "    Option #1\n",
            "      Callable with:\n",
            "        Argument #1\n",
            "          inputs: TensorSpec(shape=(None, 28, 28, 1), dtype=tf.float32, name='inputs')\n",
            "        Argument #2\n",
            "          DType: bool\n",
            "          Value: False\n",
            "        Argument #3\n",
            "          DType: NoneType\n",
            "          Value: None\n",
            "    Option #2\n",
            "      Callable with:\n",
            "        Argument #1\n",
            "          Conv1_input: TensorSpec(shape=(None, 28, 28, 1), dtype=tf.float32, name='Conv1_input')\n",
            "        Argument #2\n",
            "          DType: bool\n",
            "          Value: False\n",
            "        Argument #3\n",
            "          DType: NoneType\n",
            "          Value: None\n",
            "    Option #3\n",
            "      Callable with:\n",
            "        Argument #1\n",
            "          Conv1_input: TensorSpec(shape=(None, 28, 28, 1), dtype=tf.float32, name='Conv1_input')\n",
            "        Argument #2\n",
            "          DType: bool\n",
            "          Value: True\n",
            "        Argument #3\n",
            "          DType: NoneType\n",
            "          Value: None\n",
            "    Option #4\n",
            "      Callable with:\n",
            "        Argument #1\n",
            "          inputs: TensorSpec(shape=(None, 28, 28, 1), dtype=tf.float32, name='inputs')\n",
            "        Argument #2\n",
            "          DType: bool\n",
            "          Value: True\n",
            "        Argument #3\n",
            "          DType: NoneType\n",
            "          Value: None\n"
          ]
        }
      ],
      "source": [
        "!saved_model_cli show --dir {export_path} --all"
      ]
    },
    {
      "cell_type": "markdown",
      "metadata": {
        "id": "lSPWuegUb7Eo"
      },
      "source": [
        "That tells us a lot about our model!  In this case we just trained our model, so we already know the inputs and outputs, but if we didn't this would be important information.  It doesn't tell us everything, like the fact that this is grayscale image data for example, but it's a great start."
      ]
    },
    {
      "cell_type": "markdown",
      "metadata": {
        "id": "DBgsyhytS6KD"
      },
      "source": [
        "## Serve your model with TensorFlow Serving\n",
        "\n",
        "**Warning: If you are running this NOT on a Google Colab,** following cells\n",
        "will install packages on the system with root access. If you want to run it in\n",
        "a local Jupyter notebook, please proceed with caution.\n",
        "\n",
        "### Add TensorFlow Serving distribution URI as a package source:\n",
        "\n",
        "We're preparing to install TensorFlow Serving using [Aptitude](https://wiki.debian.org/Aptitude) since this Colab runs in a Debian environment.  We'll add the `tensorflow-model-server` package to the list of packages that Aptitude knows about.  Note that we're running as root.\n",
        "\n",
        "Note: This example is running TensorFlow Serving natively, but [you can also run it in a Docker container](https://www.tensorflow.org/tfx/serving/docker), which is one of the easiest ways to get started using TensorFlow Serving."
      ]
    },
    {
      "cell_type": "code",
      "execution_count": 8,
      "metadata": {
        "id": "v2hF_ChoOrEd"
      },
      "outputs": [],
      "source": [
        "import sys\n",
        "# We need sudo prefix if not on a Google Colab.\n",
        "if 'google.colab' not in sys.modules:\n",
        "  SUDO_IF_NEEDED = 'sudo'\n",
        "else:\n",
        "  SUDO_IF_NEEDED = ''"
      ]
    },
    {
      "cell_type": "code",
      "execution_count": 9,
      "metadata": {
        "id": "EWg9X2QHlbGS"
      },
      "outputs": [
        {
          "name": "stderr",
          "output_type": "stream",
          "text": [
            "'sudo' is not recognized as an internal or external command,\n",
            "operable program or batch file.\n",
            "'sudo' is not recognized as an internal or external command,\n",
            "operable program or batch file.\n"
          ]
        }
      ],
      "source": [
        "# This is the same as you would do from your command line, but without the [arch=amd64], and no sudo\n",
        "# You would instead do:\n",
        "# echo \"deb [arch=amd64] http://storage.googleapis.com/tensorflow-serving-apt stable tensorflow-model-server tensorflow-model-server-universal\" | sudo tee /etc/apt/sources.list.d/tensorflow-serving.list && \\\n",
        "# curl https://storage.googleapis.com/tensorflow-serving-apt/tensorflow-serving.release.pub.gpg | sudo apt-key add -\n",
        "\n",
        "!echo \"deb http://storage.googleapis.com/tensorflow-serving-apt stable tensorflow-model-server tensorflow-model-server-universal\" | {SUDO_IF_NEEDED} tee /etc/apt/sources.list.d/tensorflow-serving.list && \\\n",
        "curl https://storage.googleapis.com/tensorflow-serving-apt/tensorflow-serving.release.pub.gpg | {SUDO_IF_NEEDED} apt-key add -\n",
        "!{SUDO_IF_NEEDED} apt update"
      ]
    },
    {
      "cell_type": "markdown",
      "metadata": {
        "id": "W1ZVp_VOU7Wu"
      },
      "source": [
        "### Install TensorFlow Serving\n",
        "\n",
        "This is all you need - one command line!"
      ]
    },
    {
      "cell_type": "code",
      "execution_count": 10,
      "metadata": {
        "id": "ygwa9AgRloYy"
      },
      "outputs": [
        {
          "name": "stderr",
          "output_type": "stream",
          "text": [
            "'sudo' is not recognized as an internal or external command,\n",
            "operable program or batch file.\n"
          ]
        }
      ],
      "source": [
        "!{SUDO_IF_NEEDED} apt-get install tensorflow-model-server"
      ]
    },
    {
      "cell_type": "markdown",
      "metadata": {
        "id": "k5NrYdQeVm52"
      },
      "source": [
        "### Start running TensorFlow Serving\n",
        "\n",
        "This is where we start running TensorFlow Serving and load our model.  After it loads we can start making inference requests using REST.  There are some important parameters:\n",
        "\n",
        "* `rest_api_port`: The port that you'll use for REST requests.\n",
        "* `model_name`: You'll use this in the URL of REST requests.  It can be anything.\n",
        "* `model_base_path`: This is the path to the directory where you've saved your model.\n"
      ]
    },
    {
      "cell_type": "code",
      "execution_count": 11,
      "metadata": {
        "id": "aUgp3vUdU5GS"
      },
      "outputs": [],
      "source": [
        "os.environ[\"MODEL_DIR\"] = MODEL_DIR"
      ]
    },
    {
      "cell_type": "code",
      "execution_count": 12,
      "metadata": {
        "id": "kJDhHNJVnaLN"
      },
      "outputs": [],
      "source": [
        "%%bash --bg \n",
        "nohup tensorflow_model_server \\\n",
        "  --rest_api_port=8501 \\\n",
        "  --model_name=fashion_model \\\n",
        "  --model_base_path=\"${MODEL_DIR}\" >server.log 2>&1\n"
      ]
    },
    {
      "cell_type": "code",
      "execution_count": 13,
      "metadata": {
        "id": "IxbeiOCUUs2z"
      },
      "outputs": [
        {
          "name": "stderr",
          "output_type": "stream",
          "text": [
            "'tail' is not recognized as an internal or external command,\n",
            "operable program or batch file.\n"
          ]
        }
      ],
      "source": [
        "!tail server.log"
      ]
    },
    {
      "cell_type": "markdown",
      "metadata": {
        "id": "vwg1JKaGXWAg"
      },
      "source": [
        "## Make a request to your model in TensorFlow Serving\n",
        "\n",
        "First, let's take a look at a random example from our test data."
      ]
    },
    {
      "cell_type": "code",
      "execution_count": 14,
      "metadata": {
        "id": "Luqm_Jyff9iR"
      },
      "outputs": [
        {
          "data": {
            "image/png": "[encoded data removed]",
            "text/plain": [
              "<Figure size 432x288 with 1 Axes>"
            ]
          },
          "metadata": {
            "needs_background": "light"
          },
          "output_type": "display_data"
        }
      ],
      "source": [
        "def show(idx, title):\n",
        "  plt.figure()\n",
        "  plt.imshow(test_images[idx].reshape(28,28))\n",
        "  plt.axis('off')\n",
        "  plt.title('\\n\\n{}'.format(title), fontdict={'size': 16})\n",
        "\n",
        "import random\n",
        "rando = random.randint(0,len(test_images)-1)\n",
        "show(rando, 'An Example Image: {}'.format(class_names[test_labels[rando]]))"
      ]
    },
    {
      "cell_type": "markdown",
      "metadata": {
        "id": "TKnEHeTrbh3L"
      },
      "source": [
        "Ok, that looks interesting.  How hard is that for you to recognize? Now let's create the JSON object for a batch of  three inference requests, and see how well our model recognizes things:"
      ]
    },
    {
      "cell_type": "code",
      "execution_count": 15,
      "metadata": {
        "id": "2dsD7KQG1m-R"
      },
      "outputs": [
        {
          "name": "stdout",
          "output_type": "stream",
          "text": [
            "Data: {\"signature_name\": \"serving_default\", \"instances\": ...  [0.0], [0.0], [0.0], [0.0], [0.0], [0.0], [0.0]]]]}\n"
          ]
        }
      ],
      "source": [
        "import json\n",
        "data = json.dumps({\"signature_name\": \"serving_default\", \"instances\": test_images[0:3].tolist()})\n",
        "print('Data: {} ... {}'.format(data[:50], data[len(data)-52:]))"
      ]
    },
    {
      "cell_type": "markdown",
      "metadata": {
        "id": "ReQd4QESIwXN"
      },
      "source": [
        "### Make REST requests"
      ]
    },
    {
      "cell_type": "markdown",
      "metadata": {
        "id": "iT3J-lHrhOYQ"
      },
      "source": [
        "#### Newest version of the servable\n",
        "\n",
        "We'll send a predict request as a POST to our server's REST endpoint, and pass it three examples.  We'll ask our server to give us the latest version of our servable by not specifying a particular version."
      ]
    },
    {
      "cell_type": "code",
      "execution_count": 16,
      "metadata": {
        "id": "vGvFyuIzW6n6"
      },
      "outputs": [
        {
          "name": "stderr",
          "output_type": "stream",
          "text": [
            "WARNING: You are using pip version 21.3; however, version 22.2.2 is available.\n",
            "You should consider upgrading via the 'C:\\Users\\Jaime GG-B\\AppData\\Local\\Programs\\Python\\Python39\\python.exe -m pip install --upgrade pip' command.\n"
          ]
        },
        {
          "ename": "ConnectionError",
          "evalue": "HTTPConnectionPool(host='localhost', port=8501): Max retries exceeded with url: /v1/models/fashion_model:predict (Caused by NewConnectionError('<urllib3.connection.HTTPConnection object at 0x000002350654FCA0>: Failed to establish a new connection: [WinError 10061] No connection could be made because the target machine actively refused it'))",
          "output_type": "error",
          "traceback": [
            "\u001b[1;31m---------------------------------------------------------------------------\u001b[0m",
            "\u001b[1;31mConnectionRefusedError\u001b[0m                    Traceback (most recent call last)",
            "File \u001b[1;32mc:\\Users\\Jaime GG-B\\AppData\\Local\\Programs\\Python\\Python39\\lib\\site-packages\\urllib3\\connection.py:174\u001b[0m, in \u001b[0;36mHTTPConnection._new_conn\u001b[1;34m(self)\u001b[0m\n\u001b[0;32m    173\u001b[0m \u001b[39mtry\u001b[39;00m:\n\u001b[1;32m--> 174\u001b[0m     conn \u001b[39m=\u001b[39m connection\u001b[39m.\u001b[39mcreate_connection(\n\u001b[0;32m    175\u001b[0m         (\u001b[39mself\u001b[39m\u001b[39m.\u001b[39m_dns_host, \u001b[39mself\u001b[39m\u001b[39m.\u001b[39mport), \u001b[39mself\u001b[39m\u001b[39m.\u001b[39mtimeout, \u001b[39m*\u001b[39m\u001b[39m*\u001b[39mextra_kw\n\u001b[0;32m    176\u001b[0m     )\n\u001b[0;32m    178\u001b[0m \u001b[39mexcept\u001b[39;00m SocketTimeout:\n",
            "File \u001b[1;32mc:\\Users\\Jaime GG-B\\AppData\\Local\\Programs\\Python\\Python39\\lib\\site-packages\\urllib3\\util\\connection.py:95\u001b[0m, in \u001b[0;36mcreate_connection\u001b[1;34m(address, timeout, source_address, socket_options)\u001b[0m\n\u001b[0;32m     94\u001b[0m \u001b[39mif\u001b[39;00m err \u001b[39mis\u001b[39;00m \u001b[39mnot\u001b[39;00m \u001b[39mNone\u001b[39;00m:\n\u001b[1;32m---> 95\u001b[0m     \u001b[39mraise\u001b[39;00m err\n\u001b[0;32m     97\u001b[0m \u001b[39mraise\u001b[39;00m socket\u001b[39m.\u001b[39merror(\u001b[39m\"\u001b[39m\u001b[39mgetaddrinfo returns an empty list\u001b[39m\u001b[39m\"\u001b[39m)\n",
            "File \u001b[1;32mc:\\Users\\Jaime GG-B\\AppData\\Local\\Programs\\Python\\Python39\\lib\\site-packages\\urllib3\\util\\connection.py:85\u001b[0m, in \u001b[0;36mcreate_connection\u001b[1;34m(address, timeout, source_address, socket_options)\u001b[0m\n\u001b[0;32m     84\u001b[0m     sock\u001b[39m.\u001b[39mbind(source_address)\n\u001b[1;32m---> 85\u001b[0m sock\u001b[39m.\u001b[39;49mconnect(sa)\n\u001b[0;32m     86\u001b[0m \u001b[39mreturn\u001b[39;00m sock\n",
            "\u001b[1;31mConnectionRefusedError\u001b[0m: [WinError 10061] No connection could be made because the target machine actively refused it",
            "\nDuring handling of the above exception, another exception occurred:\n",
            "\u001b[1;31mNewConnectionError\u001b[0m                        Traceback (most recent call last)",
            "File \u001b[1;32mc:\\Users\\Jaime GG-B\\AppData\\Local\\Programs\\Python\\Python39\\lib\\site-packages\\urllib3\\connectionpool.py:703\u001b[0m, in \u001b[0;36mHTTPConnectionPool.urlopen\u001b[1;34m(self, method, url, body, headers, retries, redirect, assert_same_host, timeout, pool_timeout, release_conn, chunked, body_pos, **response_kw)\u001b[0m\n\u001b[0;32m    702\u001b[0m \u001b[39m# Make the request on the httplib connection object.\u001b[39;00m\n\u001b[1;32m--> 703\u001b[0m httplib_response \u001b[39m=\u001b[39m \u001b[39mself\u001b[39;49m\u001b[39m.\u001b[39;49m_make_request(\n\u001b[0;32m    704\u001b[0m     conn,\n\u001b[0;32m    705\u001b[0m     method,\n\u001b[0;32m    706\u001b[0m     url,\n\u001b[0;32m    707\u001b[0m     timeout\u001b[39m=\u001b[39;49mtimeout_obj,\n\u001b[0;32m    708\u001b[0m     body\u001b[39m=\u001b[39;49mbody,\n\u001b[0;32m    709\u001b[0m     headers\u001b[39m=\u001b[39;49mheaders,\n\u001b[0;32m    710\u001b[0m     chunked\u001b[39m=\u001b[39;49mchunked,\n\u001b[0;32m    711\u001b[0m )\n\u001b[0;32m    713\u001b[0m \u001b[39m# If we're going to release the connection in ``finally:``, then\u001b[39;00m\n\u001b[0;32m    714\u001b[0m \u001b[39m# the response doesn't need to know about the connection. Otherwise\u001b[39;00m\n\u001b[0;32m    715\u001b[0m \u001b[39m# it will also try to release it and we'll have a double-release\u001b[39;00m\n\u001b[0;32m    716\u001b[0m \u001b[39m# mess.\u001b[39;00m\n",
            "File \u001b[1;32mc:\\Users\\Jaime GG-B\\AppData\\Local\\Programs\\Python\\Python39\\lib\\site-packages\\urllib3\\connectionpool.py:398\u001b[0m, in \u001b[0;36mHTTPConnectionPool._make_request\u001b[1;34m(self, conn, method, url, timeout, chunked, **httplib_request_kw)\u001b[0m\n\u001b[0;32m    397\u001b[0m     \u001b[39melse\u001b[39;00m:\n\u001b[1;32m--> 398\u001b[0m         conn\u001b[39m.\u001b[39mrequest(method, url, \u001b[39m*\u001b[39m\u001b[39m*\u001b[39mhttplib_request_kw)\n\u001b[0;32m    400\u001b[0m \u001b[39m# We are swallowing BrokenPipeError (errno.EPIPE) since the server is\u001b[39;00m\n\u001b[0;32m    401\u001b[0m \u001b[39m# legitimately able to close the connection after sending a valid response.\u001b[39;00m\n\u001b[0;32m    402\u001b[0m \u001b[39m# With this behaviour, the received response is still readable.\u001b[39;00m\n",
            "File \u001b[1;32mc:\\Users\\Jaime GG-B\\AppData\\Local\\Programs\\Python\\Python39\\lib\\site-packages\\urllib3\\connection.py:239\u001b[0m, in \u001b[0;36mHTTPConnection.request\u001b[1;34m(self, method, url, body, headers)\u001b[0m\n\u001b[0;32m    238\u001b[0m     headers[\u001b[39m\"\u001b[39m\u001b[39mUser-Agent\u001b[39m\u001b[39m\"\u001b[39m] \u001b[39m=\u001b[39m _get_default_user_agent()\n\u001b[1;32m--> 239\u001b[0m \u001b[39msuper\u001b[39;49m(HTTPConnection, \u001b[39mself\u001b[39;49m)\u001b[39m.\u001b[39;49mrequest(method, url, body\u001b[39m=\u001b[39;49mbody, headers\u001b[39m=\u001b[39;49mheaders)\n",
            "File \u001b[1;32mc:\\Users\\Jaime GG-B\\AppData\\Local\\Programs\\Python\\Python39\\lib\\http\\client.py:1279\u001b[0m, in \u001b[0;36mHTTPConnection.request\u001b[1;34m(self, method, url, body, headers, encode_chunked)\u001b[0m\n\u001b[0;32m   1278\u001b[0m \u001b[39m\"\"\"Send a complete request to the server.\"\"\"\u001b[39;00m\n\u001b[1;32m-> 1279\u001b[0m \u001b[39mself\u001b[39;49m\u001b[39m.\u001b[39;49m_send_request(method, url, body, headers, encode_chunked)\n",
            "File \u001b[1;32mc:\\Users\\Jaime GG-B\\AppData\\Local\\Programs\\Python\\Python39\\lib\\http\\client.py:1325\u001b[0m, in \u001b[0;36mHTTPConnection._send_request\u001b[1;34m(self, method, url, body, headers, encode_chunked)\u001b[0m\n\u001b[0;32m   1324\u001b[0m     body \u001b[39m=\u001b[39m _encode(body, \u001b[39m'\u001b[39m\u001b[39mbody\u001b[39m\u001b[39m'\u001b[39m)\n\u001b[1;32m-> 1325\u001b[0m \u001b[39mself\u001b[39;49m\u001b[39m.\u001b[39;49mendheaders(body, encode_chunked\u001b[39m=\u001b[39;49mencode_chunked)\n",
            "File \u001b[1;32mc:\\Users\\Jaime GG-B\\AppData\\Local\\Programs\\Python\\Python39\\lib\\http\\client.py:1274\u001b[0m, in \u001b[0;36mHTTPConnection.endheaders\u001b[1;34m(self, message_body, encode_chunked)\u001b[0m\n\u001b[0;32m   1273\u001b[0m     \u001b[39mraise\u001b[39;00m CannotSendHeader()\n\u001b[1;32m-> 1274\u001b[0m \u001b[39mself\u001b[39;49m\u001b[39m.\u001b[39;49m_send_output(message_body, encode_chunked\u001b[39m=\u001b[39;49mencode_chunked)\n",
            "File \u001b[1;32mc:\\Users\\Jaime GG-B\\AppData\\Local\\Programs\\Python\\Python39\\lib\\http\\client.py:1034\u001b[0m, in \u001b[0;36mHTTPConnection._send_output\u001b[1;34m(self, message_body, encode_chunked)\u001b[0m\n\u001b[0;32m   1033\u001b[0m \u001b[39mdel\u001b[39;00m \u001b[39mself\u001b[39m\u001b[39m.\u001b[39m_buffer[:]\n\u001b[1;32m-> 1034\u001b[0m \u001b[39mself\u001b[39;49m\u001b[39m.\u001b[39;49msend(msg)\n\u001b[0;32m   1036\u001b[0m \u001b[39mif\u001b[39;00m message_body \u001b[39mis\u001b[39;00m \u001b[39mnot\u001b[39;00m \u001b[39mNone\u001b[39;00m:\n\u001b[0;32m   1037\u001b[0m \n\u001b[0;32m   1038\u001b[0m     \u001b[39m# create a consistent interface to message_body\u001b[39;00m\n",
            "File \u001b[1;32mc:\\Users\\Jaime GG-B\\AppData\\Local\\Programs\\Python\\Python39\\lib\\http\\client.py:974\u001b[0m, in \u001b[0;36mHTTPConnection.send\u001b[1;34m(self, data)\u001b[0m\n\u001b[0;32m    973\u001b[0m \u001b[39mif\u001b[39;00m \u001b[39mself\u001b[39m\u001b[39m.\u001b[39mauto_open:\n\u001b[1;32m--> 974\u001b[0m     \u001b[39mself\u001b[39;49m\u001b[39m.\u001b[39;49mconnect()\n\u001b[0;32m    975\u001b[0m \u001b[39melse\u001b[39;00m:\n",
            "File \u001b[1;32mc:\\Users\\Jaime GG-B\\AppData\\Local\\Programs\\Python\\Python39\\lib\\site-packages\\urllib3\\connection.py:205\u001b[0m, in \u001b[0;36mHTTPConnection.connect\u001b[1;34m(self)\u001b[0m\n\u001b[0;32m    204\u001b[0m \u001b[39mdef\u001b[39;00m \u001b[39mconnect\u001b[39m(\u001b[39mself\u001b[39m):\n\u001b[1;32m--> 205\u001b[0m     conn \u001b[39m=\u001b[39m \u001b[39mself\u001b[39;49m\u001b[39m.\u001b[39;49m_new_conn()\n\u001b[0;32m    206\u001b[0m     \u001b[39mself\u001b[39m\u001b[39m.\u001b[39m_prepare_conn(conn)\n",
            "File \u001b[1;32mc:\\Users\\Jaime GG-B\\AppData\\Local\\Programs\\Python\\Python39\\lib\\site-packages\\urllib3\\connection.py:186\u001b[0m, in \u001b[0;36mHTTPConnection._new_conn\u001b[1;34m(self)\u001b[0m\n\u001b[0;32m    185\u001b[0m \u001b[39mexcept\u001b[39;00m SocketError \u001b[39mas\u001b[39;00m e:\n\u001b[1;32m--> 186\u001b[0m     \u001b[39mraise\u001b[39;00m NewConnectionError(\n\u001b[0;32m    187\u001b[0m         \u001b[39mself\u001b[39m, \u001b[39m\"\u001b[39m\u001b[39mFailed to establish a new connection: \u001b[39m\u001b[39m%s\u001b[39;00m\u001b[39m\"\u001b[39m \u001b[39m%\u001b[39m e\n\u001b[0;32m    188\u001b[0m     )\n\u001b[0;32m    190\u001b[0m \u001b[39mreturn\u001b[39;00m conn\n",
            "\u001b[1;31mNewConnectionError\u001b[0m: <urllib3.connection.HTTPConnection object at 0x000002350654FCA0>: Failed to establish a new connection: [WinError 10061] No connection could be made because the target machine actively refused it",
            "\nDuring handling of the above exception, another exception occurred:\n",
            "\u001b[1;31mMaxRetryError\u001b[0m                             Traceback (most recent call last)",
            "File \u001b[1;32mc:\\Users\\Jaime GG-B\\AppData\\Local\\Programs\\Python\\Python39\\lib\\site-packages\\requests\\adapters.py:440\u001b[0m, in \u001b[0;36mHTTPAdapter.send\u001b[1;34m(self, request, stream, timeout, verify, cert, proxies)\u001b[0m\n\u001b[0;32m    439\u001b[0m \u001b[39mif\u001b[39;00m \u001b[39mnot\u001b[39;00m chunked:\n\u001b[1;32m--> 440\u001b[0m     resp \u001b[39m=\u001b[39m conn\u001b[39m.\u001b[39;49murlopen(\n\u001b[0;32m    441\u001b[0m         method\u001b[39m=\u001b[39;49mrequest\u001b[39m.\u001b[39;49mmethod,\n\u001b[0;32m    442\u001b[0m         url\u001b[39m=\u001b[39;49murl,\n\u001b[0;32m    443\u001b[0m         body\u001b[39m=\u001b[39;49mrequest\u001b[39m.\u001b[39;49mbody,\n\u001b[0;32m    444\u001b[0m         headers\u001b[39m=\u001b[39;49mrequest\u001b[39m.\u001b[39;49mheaders,\n\u001b[0;32m    445\u001b[0m         redirect\u001b[39m=\u001b[39;49m\u001b[39mFalse\u001b[39;49;00m,\n\u001b[0;32m    446\u001b[0m         assert_same_host\u001b[39m=\u001b[39;49m\u001b[39mFalse\u001b[39;49;00m,\n\u001b[0;32m    447\u001b[0m         preload_content\u001b[39m=\u001b[39;49m\u001b[39mFalse\u001b[39;49;00m,\n\u001b[0;32m    448\u001b[0m         decode_content\u001b[39m=\u001b[39;49m\u001b[39mFalse\u001b[39;49;00m,\n\u001b[0;32m    449\u001b[0m         retries\u001b[39m=\u001b[39;49m\u001b[39mself\u001b[39;49m\u001b[39m.\u001b[39;49mmax_retries,\n\u001b[0;32m    450\u001b[0m         timeout\u001b[39m=\u001b[39;49mtimeout\n\u001b[0;32m    451\u001b[0m     )\n\u001b[0;32m    453\u001b[0m \u001b[39m# Send the request.\u001b[39;00m\n\u001b[0;32m    454\u001b[0m \u001b[39melse\u001b[39;00m:\n",
            "File \u001b[1;32mc:\\Users\\Jaime GG-B\\AppData\\Local\\Programs\\Python\\Python39\\lib\\site-packages\\urllib3\\connectionpool.py:785\u001b[0m, in \u001b[0;36mHTTPConnectionPool.urlopen\u001b[1;34m(self, method, url, body, headers, retries, redirect, assert_same_host, timeout, pool_timeout, release_conn, chunked, body_pos, **response_kw)\u001b[0m\n\u001b[0;32m    783\u001b[0m     e \u001b[39m=\u001b[39m ProtocolError(\u001b[39m\"\u001b[39m\u001b[39mConnection aborted.\u001b[39m\u001b[39m\"\u001b[39m, e)\n\u001b[1;32m--> 785\u001b[0m retries \u001b[39m=\u001b[39m retries\u001b[39m.\u001b[39;49mincrement(\n\u001b[0;32m    786\u001b[0m     method, url, error\u001b[39m=\u001b[39;49me, _pool\u001b[39m=\u001b[39;49m\u001b[39mself\u001b[39;49m, _stacktrace\u001b[39m=\u001b[39;49msys\u001b[39m.\u001b[39;49mexc_info()[\u001b[39m2\u001b[39;49m]\n\u001b[0;32m    787\u001b[0m )\n\u001b[0;32m    788\u001b[0m retries\u001b[39m.\u001b[39msleep()\n",
            "File \u001b[1;32mc:\\Users\\Jaime GG-B\\AppData\\Local\\Programs\\Python\\Python39\\lib\\site-packages\\urllib3\\util\\retry.py:592\u001b[0m, in \u001b[0;36mRetry.increment\u001b[1;34m(self, method, url, response, error, _pool, _stacktrace)\u001b[0m\n\u001b[0;32m    591\u001b[0m \u001b[39mif\u001b[39;00m new_retry\u001b[39m.\u001b[39mis_exhausted():\n\u001b[1;32m--> 592\u001b[0m     \u001b[39mraise\u001b[39;00m MaxRetryError(_pool, url, error \u001b[39mor\u001b[39;00m ResponseError(cause))\n\u001b[0;32m    594\u001b[0m log\u001b[39m.\u001b[39mdebug(\u001b[39m\"\u001b[39m\u001b[39mIncremented Retry for (url=\u001b[39m\u001b[39m'\u001b[39m\u001b[39m%s\u001b[39;00m\u001b[39m'\u001b[39m\u001b[39m): \u001b[39m\u001b[39m%r\u001b[39;00m\u001b[39m\"\u001b[39m, url, new_retry)\n",
            "\u001b[1;31mMaxRetryError\u001b[0m: HTTPConnectionPool(host='localhost', port=8501): Max retries exceeded with url: /v1/models/fashion_model:predict (Caused by NewConnectionError('<urllib3.connection.HTTPConnection object at 0x000002350654FCA0>: Failed to establish a new connection: [WinError 10061] No connection could be made because the target machine actively refused it'))",
            "\nDuring handling of the above exception, another exception occurred:\n",
            "\u001b[1;31mConnectionError\u001b[0m                           Traceback (most recent call last)",
            "Cell \u001b[1;32mIn [16], line 6\u001b[0m\n\u001b[0;32m      4\u001b[0m \u001b[38;5;28;01mimport\u001b[39;00m \u001b[38;5;21;01mrequests\u001b[39;00m\n\u001b[0;32m      5\u001b[0m headers \u001b[38;5;241m=\u001b[39m {\u001b[38;5;124m\"\u001b[39m\u001b[38;5;124mcontent-type\u001b[39m\u001b[38;5;124m\"\u001b[39m: \u001b[38;5;124m\"\u001b[39m\u001b[38;5;124mapplication/json\u001b[39m\u001b[38;5;124m\"\u001b[39m}\n\u001b[1;32m----> 6\u001b[0m json_response \u001b[38;5;241m=\u001b[39m requests\u001b[38;5;241m.\u001b[39mpost(\u001b[38;5;124m'\u001b[39m\u001b[38;5;124mhttp://localhost:8501/v1/models/fashion_model:predict\u001b[39m\u001b[38;5;124m'\u001b[39m, data\u001b[38;5;241m=\u001b[39mdata, headers\u001b[38;5;241m=\u001b[39mheaders)\n\u001b[0;32m      7\u001b[0m predictions \u001b[38;5;241m=\u001b[39m json\u001b[38;5;241m.\u001b[39mloads(json_response\u001b[38;5;241m.\u001b[39mtext)[\u001b[38;5;124m'\u001b[39m\u001b[38;5;124mpredictions\u001b[39m\u001b[38;5;124m'\u001b[39m]\n\u001b[0;32m      9\u001b[0m show(\u001b[38;5;241m0\u001b[39m, \u001b[38;5;124m'\u001b[39m\u001b[38;5;124mThe model thought this was a \u001b[39m\u001b[38;5;132;01m{}\u001b[39;00m\u001b[38;5;124m (class \u001b[39m\u001b[38;5;132;01m{}\u001b[39;00m\u001b[38;5;124m), and it was actually a \u001b[39m\u001b[38;5;132;01m{}\u001b[39;00m\u001b[38;5;124m (class \u001b[39m\u001b[38;5;132;01m{}\u001b[39;00m\u001b[38;5;124m)\u001b[39m\u001b[38;5;124m'\u001b[39m\u001b[38;5;241m.\u001b[39mformat(\n\u001b[0;32m     10\u001b[0m   class_names[np\u001b[38;5;241m.\u001b[39margmax(predictions[\u001b[38;5;241m0\u001b[39m])], np\u001b[38;5;241m.\u001b[39margmax(predictions[\u001b[38;5;241m0\u001b[39m]), class_names[test_labels[\u001b[38;5;241m0\u001b[39m]], test_labels[\u001b[38;5;241m0\u001b[39m]))\n",
            "File \u001b[1;32mc:\\Users\\Jaime GG-B\\AppData\\Local\\Programs\\Python\\Python39\\lib\\site-packages\\requests\\api.py:117\u001b[0m, in \u001b[0;36mpost\u001b[1;34m(url, data, json, **kwargs)\u001b[0m\n\u001b[0;32m    105\u001b[0m \u001b[39mdef\u001b[39;00m \u001b[39mpost\u001b[39m(url, data\u001b[39m=\u001b[39m\u001b[39mNone\u001b[39;00m, json\u001b[39m=\u001b[39m\u001b[39mNone\u001b[39;00m, \u001b[39m*\u001b[39m\u001b[39m*\u001b[39mkwargs):\n\u001b[0;32m    106\u001b[0m     \u001b[39mr\u001b[39m\u001b[39m\"\"\"Sends a POST request.\u001b[39;00m\n\u001b[0;32m    107\u001b[0m \n\u001b[0;32m    108\u001b[0m \u001b[39m    :param url: URL for the new :class:`Request` object.\u001b[39;00m\n\u001b[1;32m   (...)\u001b[0m\n\u001b[0;32m    114\u001b[0m \u001b[39m    :rtype: requests.Response\u001b[39;00m\n\u001b[0;32m    115\u001b[0m \u001b[39m    \"\"\"\u001b[39;00m\n\u001b[1;32m--> 117\u001b[0m     \u001b[39mreturn\u001b[39;00m request(\u001b[39m'\u001b[39m\u001b[39mpost\u001b[39m\u001b[39m'\u001b[39m, url, data\u001b[39m=\u001b[39mdata, json\u001b[39m=\u001b[39mjson, \u001b[39m*\u001b[39m\u001b[39m*\u001b[39mkwargs)\n",
            "File \u001b[1;32mc:\\Users\\Jaime GG-B\\AppData\\Local\\Programs\\Python\\Python39\\lib\\site-packages\\requests\\api.py:61\u001b[0m, in \u001b[0;36mrequest\u001b[1;34m(method, url, **kwargs)\u001b[0m\n\u001b[0;32m     57\u001b[0m \u001b[39m# By using the 'with' statement we are sure the session is closed, thus we\u001b[39;00m\n\u001b[0;32m     58\u001b[0m \u001b[39m# avoid leaving sockets open which can trigger a ResourceWarning in some\u001b[39;00m\n\u001b[0;32m     59\u001b[0m \u001b[39m# cases, and look like a memory leak in others.\u001b[39;00m\n\u001b[0;32m     60\u001b[0m \u001b[39mwith\u001b[39;00m sessions\u001b[39m.\u001b[39mSession() \u001b[39mas\u001b[39;00m session:\n\u001b[1;32m---> 61\u001b[0m     \u001b[39mreturn\u001b[39;00m session\u001b[39m.\u001b[39mrequest(method\u001b[39m=\u001b[39mmethod, url\u001b[39m=\u001b[39murl, \u001b[39m*\u001b[39m\u001b[39m*\u001b[39mkwargs)\n",
            "File \u001b[1;32mc:\\Users\\Jaime GG-B\\AppData\\Local\\Programs\\Python\\Python39\\lib\\site-packages\\requests\\sessions.py:529\u001b[0m, in \u001b[0;36mSession.request\u001b[1;34m(self, method, url, params, data, headers, cookies, files, auth, timeout, allow_redirects, proxies, hooks, stream, verify, cert, json)\u001b[0m\n\u001b[0;32m    524\u001b[0m send_kwargs \u001b[39m=\u001b[39m {\n\u001b[0;32m    525\u001b[0m     \u001b[39m'\u001b[39m\u001b[39mtimeout\u001b[39m\u001b[39m'\u001b[39m: timeout,\n\u001b[0;32m    526\u001b[0m     \u001b[39m'\u001b[39m\u001b[39mallow_redirects\u001b[39m\u001b[39m'\u001b[39m: allow_redirects,\n\u001b[0;32m    527\u001b[0m }\n\u001b[0;32m    528\u001b[0m send_kwargs\u001b[39m.\u001b[39mupdate(settings)\n\u001b[1;32m--> 529\u001b[0m resp \u001b[39m=\u001b[39m \u001b[39mself\u001b[39m\u001b[39m.\u001b[39msend(prep, \u001b[39m*\u001b[39m\u001b[39m*\u001b[39msend_kwargs)\n\u001b[0;32m    531\u001b[0m \u001b[39mreturn\u001b[39;00m resp\n",
            "File \u001b[1;32mc:\\Users\\Jaime GG-B\\AppData\\Local\\Programs\\Python\\Python39\\lib\\site-packages\\requests\\sessions.py:645\u001b[0m, in \u001b[0;36mSession.send\u001b[1;34m(self, request, **kwargs)\u001b[0m\n\u001b[0;32m    642\u001b[0m start \u001b[39m=\u001b[39m preferred_clock()\n\u001b[0;32m    644\u001b[0m \u001b[39m# Send the request\u001b[39;00m\n\u001b[1;32m--> 645\u001b[0m r \u001b[39m=\u001b[39m adapter\u001b[39m.\u001b[39msend(request, \u001b[39m*\u001b[39m\u001b[39m*\u001b[39mkwargs)\n\u001b[0;32m    647\u001b[0m \u001b[39m# Total elapsed time of the request (approximately)\u001b[39;00m\n\u001b[0;32m    648\u001b[0m elapsed \u001b[39m=\u001b[39m preferred_clock() \u001b[39m-\u001b[39m start\n",
            "File \u001b[1;32mc:\\Users\\Jaime GG-B\\AppData\\Local\\Programs\\Python\\Python39\\lib\\site-packages\\requests\\adapters.py:519\u001b[0m, in \u001b[0;36mHTTPAdapter.send\u001b[1;34m(self, request, stream, timeout, verify, cert, proxies)\u001b[0m\n\u001b[0;32m    515\u001b[0m     \u001b[39mif\u001b[39;00m \u001b[39misinstance\u001b[39m(e\u001b[39m.\u001b[39mreason, _SSLError):\n\u001b[0;32m    516\u001b[0m         \u001b[39m# This branch is for urllib3 v1.22 and later.\u001b[39;00m\n\u001b[0;32m    517\u001b[0m         \u001b[39mraise\u001b[39;00m SSLError(e, request\u001b[39m=\u001b[39mrequest)\n\u001b[1;32m--> 519\u001b[0m     \u001b[39mraise\u001b[39;00m \u001b[39mConnectionError\u001b[39;00m(e, request\u001b[39m=\u001b[39mrequest)\n\u001b[0;32m    521\u001b[0m \u001b[39mexcept\u001b[39;00m ClosedPoolError \u001b[39mas\u001b[39;00m e:\n\u001b[0;32m    522\u001b[0m     \u001b[39mraise\u001b[39;00m \u001b[39mConnectionError\u001b[39;00m(e, request\u001b[39m=\u001b[39mrequest)\n",
            "\u001b[1;31mConnectionError\u001b[0m: HTTPConnectionPool(host='localhost', port=8501): Max retries exceeded with url: /v1/models/fashion_model:predict (Caused by NewConnectionError('<urllib3.connection.HTTPConnection object at 0x000002350654FCA0>: Failed to establish a new connection: [WinError 10061] No connection could be made because the target machine actively refused it'))"
          ]
        }
      ],
      "source": [
        "# docs_infra: no_execute\n",
        "!pip install -q requests\n",
        "\n",
        "import requests\n",
        "headers = {\"content-type\": \"application/json\"}\n",
        "json_response = requests.post('http://localhost:8501/v1/models/fashion_model:predict', data=data, headers=headers)\n",
        "predictions = json.loads(json_response.text)['predictions']\n",
        "\n",
        "show(0, 'The model thought this was a {} (class {}), and it was actually a {} (class {})'.format(\n",
        "  class_names[np.argmax(predictions[0])], np.argmax(predictions[0]), class_names[test_labels[0]], test_labels[0]))"
      ]
    },
    {
      "cell_type": "markdown",
      "metadata": {
        "id": "YJH8LtM4XELp"
      },
      "source": [
        "#### A particular version of the servable\n",
        "\n",
        "Now let's specify a particular version of our servable.  Since we only have one, let's select version 1.  We'll also look at all three results."
      ]
    },
    {
      "cell_type": "code",
      "execution_count": null,
      "metadata": {
        "id": "zRftRxeR1tZx"
      },
      "outputs": [],
      "source": [
        "# docs_infra: no_execute\n",
        "headers = {\"content-type\": \"application/json\"}\n",
        "json_response = requests.post('http://localhost:8501/v1/models/fashion_model/versions/1:predict', data=data, headers=headers)\n",
        "predictions = json.loads(json_response.text)['predictions']\n",
        "\n",
        "for i in range(0,3):\n",
        "  show(i, 'The model thought this was a {} (class {}), and it was actually a {} (class {})'.format(\n",
        "    class_names[np.argmax(predictions[i])], np.argmax(predictions[i]), class_names[test_labels[i]], test_labels[i]))"
      ]
    }
  ],
  "metadata": {
    "accelerator": "GPU",
    "colab": {
      "collapsed_sections": [],
      "name": "rest_simple.ipynb",
      "provenance": [],
      "toc_visible": true
    },
    "kernelspec": {
      "display_name": "Python 3.9.7 64-bit",
      "language": "python",
      "name": "python3"
    },
    "language_info": {
      "codemirror_mode": {
        "name": "ipython",
        "version": 3
      },
      "file_extension": ".py",
      "mimetype": "text/x-python",
      "name": "python",
      "nbconvert_exporter": "python",
      "pygments_lexer": "ipython3",
      "version": "3.9.7"
    },
    "vscode": {
      "interpreter": {
        "hash": "e62dcc45d4cf21a563dc8c58b679171a51000e7c290e6a36376a6644d2c9a33b"
      }
    }
  },
  "nbformat": 4,
  "nbformat_minor": 0
}
